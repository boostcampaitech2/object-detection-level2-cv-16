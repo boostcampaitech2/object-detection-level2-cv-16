{
 "cells": [
  {
   "cell_type": "code",
   "execution_count": 10,
   "source": [
    "import json\n",
    "import copy\n",
    "from easydict import EasyDict as edict"
   ],
   "outputs": [],
   "metadata": {}
  },
  {
   "cell_type": "code",
   "execution_count": 11,
   "source": [
    "with open('train.json','r') as f:\n",
    "    train_json = json.load(f)\n",
    "train_json = edict(train_json)\n",
    "print(train_json.keys())"
   ],
   "outputs": [
    {
     "output_type": "stream",
     "name": "stdout",
     "text": [
      "dict_keys(['info', 'licenses', 'images', 'categories', 'annotations'])\n"
     ]
    }
   ],
   "metadata": {}
  },
  {
   "cell_type": "code",
   "execution_count": 13,
   "source": [
    "train_json.images[:3]"
   ],
   "outputs": [
    {
     "output_type": "execute_result",
     "data": {
      "text/plain": [
       "[{'width': 1024,\n",
       "  'height': 1024,\n",
       "  'file_name': 'train/0000.jpg',\n",
       "  'license': 0,\n",
       "  'flickr_url': None,\n",
       "  'coco_url': None,\n",
       "  'date_captured': '2020-12-26 14:44:23',\n",
       "  'id': 0},\n",
       " {'width': 1024,\n",
       "  'height': 1024,\n",
       "  'file_name': 'train/0001.jpg',\n",
       "  'license': 0,\n",
       "  'flickr_url': None,\n",
       "  'coco_url': None,\n",
       "  'date_captured': '2021-01-10 16:30:39',\n",
       "  'id': 1},\n",
       " {'width': 1024,\n",
       "  'height': 1024,\n",
       "  'file_name': 'train/0002.jpg',\n",
       "  'license': 0,\n",
       "  'flickr_url': None,\n",
       "  'coco_url': None,\n",
       "  'date_captured': '2020-12-27 17:55:52',\n",
       "  'id': 2}]"
      ]
     },
     "metadata": {},
     "execution_count": 13
    }
   ],
   "metadata": {}
  },
  {
   "cell_type": "code",
   "execution_count": 15,
   "source": [
    "train_json.annotations[:5]"
   ],
   "outputs": [
    {
     "output_type": "execute_result",
     "data": {
      "text/plain": [
       "[{'image_id': 0,\n",
       "  'category_id': 0,\n",
       "  'area': 257301.66,\n",
       "  'bbox': [197.6, 193.7, 547.8, 469.7],\n",
       "  'iscrowd': 0,\n",
       "  'id': 0},\n",
       " {'image_id': 1,\n",
       "  'category_id': 3,\n",
       "  'area': 10402.56,\n",
       "  'bbox': [0.0, 407.4, 57.6, 180.6],\n",
       "  'iscrowd': 0,\n",
       "  'id': 1},\n",
       " {'image_id': 1,\n",
       "  'category_id': 7,\n",
       "  'area': 26259.36,\n",
       "  'bbox': [0.0, 455.6, 144.6, 181.6],\n",
       "  'iscrowd': 0,\n",
       "  'id': 2},\n",
       " {'image_id': 1,\n",
       "  'category_id': 4,\n",
       "  'area': 69096.17,\n",
       "  'bbox': [722.3, 313.4, 274.3, 251.9],\n",
       "  'iscrowd': 0,\n",
       "  'id': 3},\n",
       " {'image_id': 1,\n",
       "  'category_id': 5,\n",
       "  'area': 24164.58,\n",
       "  'bbox': [353.2, 671.0, 233.7, 103.4],\n",
       "  'iscrowd': 0,\n",
       "  'id': 4}]"
      ]
     },
     "metadata": {},
     "execution_count": 15
    }
   ],
   "metadata": {}
  },
  {
   "cell_type": "code",
   "execution_count": 16,
   "source": [
    "template = copy.deepcopy(train_json)\n",
    "template.images = []\n",
    "template.annotations = []"
   ],
   "outputs": [],
   "metadata": {}
  },
  {
   "cell_type": "code",
   "execution_count": 17,
   "source": [
    "simple_train_img, simple_train_ann = [], []\n",
    "simple_valid_img, simple_valid_ann = [], []\n",
    "\n",
    "for i in range(32):\n",
    "    if i < 16 :\n",
    "        # simple_train\n",
    "        for img in train_json.images:\n",
    "            if img.id == i:\n",
    "                simple_train_img.append(img)\n",
    "        for ann in train_json.annotations:\n",
    "            if ann.image_id == i:\n",
    "                simple_train_ann.append(ann)\n",
    "    else:\n",
    "        # simple_valid\n",
    "        for img in train_json.images:\n",
    "            if img.id == i:\n",
    "                simple_valid_img.append(img)\n",
    "        for ann in train_json.annotations:\n",
    "            if ann.image_id == i:\n",
    "                simple_valid_ann.append(ann)\n"
   ],
   "outputs": [],
   "metadata": {}
  },
  {
   "cell_type": "code",
   "execution_count": 22,
   "source": [
    "with open('simple_train.json','w') as f:\n",
    "    template.annotations = simple_train_ann\n",
    "    template.images = simple_train_img\n",
    "    json.dump(template, f, indent=4)\n",
    "with open('simple_valid.json','w') as f:\n",
    "    template.annotations = simple_valid_ann\n",
    "    template.images = simple_valid_img\n",
    "    json.dump(template, f, indent=4)\n"
   ],
   "outputs": [],
   "metadata": {}
  },
  {
   "cell_type": "code",
   "execution_count": null,
   "source": [],
   "outputs": [],
   "metadata": {}
  }
 ],
 "metadata": {
  "orig_nbformat": 4,
  "language_info": {
   "name": "python",
   "version": "3.7.11",
   "mimetype": "text/x-python",
   "codemirror_mode": {
    "name": "ipython",
    "version": 3
   },
   "pygments_lexer": "ipython3",
   "nbconvert_exporter": "python",
   "file_extension": ".py"
  },
  "kernelspec": {
   "name": "python3",
   "display_name": "Python 3.7.11 64-bit ('openmmlab': conda)"
  },
  "interpreter": {
   "hash": "4eaf873e9632301d129c27e1df38bb41050bb400cabd97461e86c0cc3cb82c3f"
  }
 },
 "nbformat": 4,
 "nbformat_minor": 2
}