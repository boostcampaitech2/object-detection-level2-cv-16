{
 "cells": [
  {
   "cell_type": "code",
   "execution_count": 37,
   "metadata": {},
   "outputs": [
    {
     "data": {
      "text/html": [
       "<div>\n",
       "<style scoped>\n",
       "    .dataframe tbody tr th:only-of-type {\n",
       "        vertical-align: middle;\n",
       "    }\n",
       "\n",
       "    .dataframe tbody tr th {\n",
       "        vertical-align: top;\n",
       "    }\n",
       "\n",
       "    .dataframe thead th {\n",
       "        text-align: right;\n",
       "    }\n",
       "</style>\n",
       "<table border=\"1\" class=\"dataframe\">\n",
       "  <thead>\n",
       "    <tr style=\"text-align: right;\">\n",
       "      <th></th>\n",
       "      <th>Unnamed: 0</th>\n",
       "      <th>PredictionString</th>\n",
       "      <th>image_id</th>\n",
       "    </tr>\n",
       "  </thead>\n",
       "  <tbody>\n",
       "    <tr>\n",
       "      <th>0</th>\n",
       "      <td>0</td>\n",
       "      <td>0 0.15688165 168.93044 425.67078 202.53456 452...</td>\n",
       "      <td>test/0000.jpg</td>\n",
       "    </tr>\n",
       "    <tr>\n",
       "      <th>1</th>\n",
       "      <td>1</td>\n",
       "      <td>0 0.7936861 637.57263 641.0707 686.15234 842.4...</td>\n",
       "      <td>test/0001.jpg</td>\n",
       "    </tr>\n",
       "    <tr>\n",
       "      <th>2</th>\n",
       "      <td>2</td>\n",
       "      <td>0 0.806641 880.000512 459.99974399999996 1024....</td>\n",
       "      <td>test/0002.jpg</td>\n",
       "    </tr>\n",
       "    <tr>\n",
       "      <th>3</th>\n",
       "      <td>3</td>\n",
       "      <td>0 0.031178754 121.46039 252.17184 934.196 815....</td>\n",
       "      <td>test/0003.jpg</td>\n",
       "    </tr>\n",
       "    <tr>\n",
       "      <th>4</th>\n",
       "      <td>4</td>\n",
       "      <td>0 0.80973613 442.07855 410.56204 651.9489 551....</td>\n",
       "      <td>test/0004.jpg</td>\n",
       "    </tr>\n",
       "  </tbody>\n",
       "</table>\n",
       "</div>"
      ],
      "text/plain": [
       "   Unnamed: 0                                   PredictionString  \\\n",
       "0           0  0 0.15688165 168.93044 425.67078 202.53456 452...   \n",
       "1           1  0 0.7936861 637.57263 641.0707 686.15234 842.4...   \n",
       "2           2  0 0.806641 880.000512 459.99974399999996 1024....   \n",
       "3           3  0 0.031178754 121.46039 252.17184 934.196 815....   \n",
       "4           4  0 0.80973613 442.07855 410.56204 651.9489 551....   \n",
       "\n",
       "        image_id  \n",
       "0  test/0000.jpg  \n",
       "1  test/0001.jpg  \n",
       "2  test/0002.jpg  \n",
       "3  test/0003.jpg  \n",
       "4  test/0004.jpg  "
      ]
     },
     "execution_count": 37,
     "metadata": {},
     "output_type": "execute_result"
    }
   ],
   "source": [
    "import pandas as pd\n",
    "import json \n",
    "from copy import copy\n",
    "\n",
    "df = pd.read_csv('../inference/ensemble.csv') # labeling을 위한 csv\n",
    "with open(\"../../dataset/train_v3_f2.json\", \"r\") as f:\n",
    "    labeled = json.load(f)\n",
    "train = copy(labeled)\n",
    "df.head()"
   ]
  },
  {
   "cell_type": "code",
   "execution_count": 39,
   "metadata": {},
   "outputs": [
    {
     "name": "stdout",
     "output_type": "stream",
     "text": [
      "25525\n"
     ]
    }
   ],
   "source": [
    "from collections import OrderedDict\n",
    "import numpy\n",
    "\n",
    "data = OrderedDict()\n",
    "\n",
    "pseudo_annotations =[]\n",
    "pseudo_images=[]\n",
    "size = len(df['image_id'])\n",
    "\n",
    "cnt = 0\n",
    "for i in range(size):\n",
    "    pseudo_images.append(\n",
    "        {\n",
    "            \"width\": 1024,\n",
    "            \"height\": 1024,\n",
    "            \"file_name\": df['image_id'][i],\n",
    "            \"license\": \"0\",\n",
    "            \"url\": \"\",\n",
    "            \"flickr_url\" : None,\n",
    "            \"coco_url\" : None,\n",
    "            \"date_captured\": 0,\n",
    "            \"id\": i + 4883\n",
    "        }\n",
    "    )\n",
    "    pred= df['PredictionString'][i]\n",
    "    bbox = pred.split()\n",
    "    bbox = map(float, bbox)\n",
    "    bbox = list(bbox)\n",
    "    bbox = numpy.array(bbox).reshape(-1,6)\n",
    "   \n",
    "    \n",
    "    for d in bbox:\n",
    "        if d[1] > 0.5: # confidence threshold\n",
    "            x_min, y_min, x_max, y_max = tuple(d[2:6])\n",
    "            w = x_max-x_min\n",
    "            h  = y_max - y_min\n",
    "            cls = int(d[0])\n",
    "            pseudo_annotations.append(\n",
    "                {\n",
    "                    \"id\": 23144 + cnt,\n",
    "                    \"category_id\": cls,\n",
    "                    \"area\": w * h,\n",
    "                    \"bbox\": [x_min, y_min, w, h],\n",
    "                    \"iscrowd\": 0,\n",
    "                    \"image_id\": i+4883,\n",
    "                }\n",
    "            )\n",
    "            cnt +=1\n",
    "\n",
    "print(cnt)\n",
    "data[\"images\"] = pseudo_images\n",
    "data[\"annotations\"] = pseudo_annotations"
   ]
  },
  {
   "cell_type": "code",
   "execution_count": 40,
   "metadata": {},
   "outputs": [],
   "source": [
    "cls = ['General trash', 'Paper', 'Paper pack', 'Metal', 'Glass', 'Plastic', 'Styrofoam', 'Plastic bag', 'Battery', 'Clothing']\n",
    "pseudo_categories =[]\n",
    "for i in range(len(cls)):\n",
    "\n",
    "    pseudo_categories.append(\n",
    "        {\n",
    "            \"id\": i,\n",
    "            \"name\": cls[i],\n",
    "            \"supercategory\": cls[i]\n",
    "        }\n",
    "    )\n",
    "\n",
    "data[\"categories\"] = pseudo_categories\n"
   ]
  },
  {
   "cell_type": "code",
   "execution_count": 42,
   "metadata": {},
   "outputs": [
    {
     "name": "stdout",
     "output_type": "stream",
     "text": [
      "3923 4871\n"
     ]
    },
    {
     "data": {
      "text/plain": [
       "8794"
      ]
     },
     "execution_count": 42,
     "metadata": {},
     "output_type": "execute_result"
    }
   ],
   "source": [
    "print(len(train['images']), len(data['images']))\n",
    "train['images'].extend(data['images'])\n",
    "train['annotations'].extend(data['annotations'])\n",
    "print(f\"Dataset size after extend : {len(train['images'])}\")"
   ]
  },
  {
   "cell_type": "code",
   "execution_count": 44,
   "metadata": {},
   "outputs": [],
   "source": [
    "with open('../../dataset/pseudofinal.json', 'w', encoding=\"utf-8\") as f:\n",
    "    json.dump(train, f, ensure_ascii=False, indent=\"\\t\")"
   ]
  },
  {
   "cell_type": "code",
   "execution_count": null,
   "metadata": {},
   "outputs": [],
   "source": []
  }
 ],
 "metadata": {
  "interpreter": {
   "hash": "b94c6de4bce9a87a354a5fa9998691adc0532adddb9d4140f5ba941d00b01fae"
  },
  "kernelspec": {
   "display_name": "Python 3.7.11 64-bit ('detection': conda)",
   "name": "python3"
  },
  "language_info": {
   "codemirror_mode": {
    "name": "ipython",
    "version": 3
   },
   "file_extension": ".py",
   "mimetype": "text/x-python",
   "name": "python",
   "nbconvert_exporter": "python",
   "pygments_lexer": "ipython3",
   "version": "3.7.11"
  }
 },
 "nbformat": 4,
 "nbformat_minor": 5
}
