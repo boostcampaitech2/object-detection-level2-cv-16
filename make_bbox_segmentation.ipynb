{
 "cells": [
  {
   "cell_type": "code",
   "execution_count": 1,
   "id": "459c189e-b72d-4859-871b-2760a4eb0ee7",
   "metadata": {},
   "outputs": [],
   "source": [
    "import json\n",
    "\n",
    "\n",
    "import shapely.geometry\n",
    "from tqdm.notebook import tqdm"
   ]
  },
  {
   "cell_type": "code",
   "execution_count": 2,
   "id": "5679da1e-4d32-4a30-acd4-c84555a22640",
   "metadata": {},
   "outputs": [],
   "source": [
    "def make_segmentation(json_data):\n",
    "    for i in tqdm(range(len(json_data['annotations']))):\n",
    "        bbox = json_data['annotations'][i]['bbox']\n",
    "        polygon = shapely.geometry.box(*(bbox[0],bbox[1],bbox[0]+bbox[2], bbox[1]+bbox[3]), ccw=True)\n",
    "        polygon = str(polygon.wkt).split(\"POLYGON ((\")[-1].split(\"))\")[0].split(',')\n",
    "        segmentation = []\n",
    "        for poly in polygon:\n",
    "            for p in poly.split(' '):\n",
    "                if p: segmentation.append(int(float(p)))\n",
    "\n",
    "        json_data['annotations'][i]['segmentation'] = [segmentation]\n",
    "        \n",
    "    return json_data"
   ]
  },
  {
   "cell_type": "code",
   "execution_count": 3,
   "id": "589e3bb4-0e29-45f3-b1b6-88493315bf35",
   "metadata": {},
   "outputs": [],
   "source": [
    "path = './detection/dataset/'\n",
    "\n",
    "with open(path + 'split_train_v2.json', 'r') as f:\n",
    "    train_data = json.load(f)\n",
    "    \n",
    "with open(path + 'split_valid_v2.json', 'r') as f:\n",
    "    valid_data = json.load(f)"
   ]
  },
  {
   "cell_type": "code",
   "execution_count": 4,
   "id": "afd80ca3-d912-4f5a-8937-d929cc72ece4",
   "metadata": {},
   "outputs": [
    {
     "data": {
      "application/vnd.jupyter.widget-view+json": {
       "model_id": "f30d2d66f5244249bbca5b1e45b15dbd",
       "version_major": 2,
       "version_minor": 0
      },
      "text/plain": [
       "  0%|          | 0/18380 [00:00<?, ?it/s]"
      ]
     },
     "metadata": {},
     "output_type": "display_data"
    },
    {
     "data": {
      "application/vnd.jupyter.widget-view+json": {
       "model_id": "c8840b1429034b77ad3e2c7f1225a3a1",
       "version_major": 2,
       "version_minor": 0
      },
      "text/plain": [
       "  0%|          | 0/4764 [00:00<?, ?it/s]"
      ]
     },
     "metadata": {},
     "output_type": "display_data"
    }
   ],
   "source": [
    "train_json = make_segmentation(train_data)\n",
    "valid_json = make_segmentation(valid_data)"
   ]
  },
  {
   "cell_type": "code",
   "execution_count": 6,
   "id": "a66b838a-6a99-4be4-89e9-7a7fff2d7646",
   "metadata": {},
   "outputs": [],
   "source": [
    "with open(path + 'split_train_v2_with_segm.json', 'w') as f:\n",
    "    json.dump(train_json, f)\n",
    "\n",
    "with open(path + 'split_valid_v2_with_segm.json', 'w') as f:\n",
    "    json.dump(valid_json, f)"
   ]
  }
 ],
 "metadata": {
  "kernelspec": {
   "display_name": "detection",
   "language": "python",
   "name": "detection"
  },
  "language_info": {
   "codemirror_mode": {
    "name": "ipython",
    "version": 3
   },
   "file_extension": ".py",
   "mimetype": "text/x-python",
   "name": "python",
   "nbconvert_exporter": "python",
   "pygments_lexer": "ipython3",
   "version": "3.7.11"
  }
 },
 "nbformat": 4,
 "nbformat_minor": 5
}
