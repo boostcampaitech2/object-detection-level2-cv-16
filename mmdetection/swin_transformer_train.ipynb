{
 "cells": [
  {
   "cell_type": "code",
   "execution_count": null,
   "id": "c6a5ae36-4224-4e5e-a6fc-710d694b02ab",
   "metadata": {},
   "outputs": [],
   "source": [
    "# 모듈 import\n",
    "\n",
    "from mmcv import Config\n",
    "from mmdet.datasets import build_dataset\n",
    "from mmdet.models import build_detector\n",
    "from mmdet.apis import train_detector\n",
    "from mmdet.datasets import (build_dataloader, build_dataset,\n",
    "                            replace_ImageToTensor)"
   ]
  },
  {
   "cell_type": "code",
   "execution_count": null,
   "id": "d412cca3-8859-403a-982c-a13fb5edd984",
   "metadata": {},
   "outputs": [],
   "source": [
    "classes = (\"General trash\", \"Paper\", \"Paper pack\", \"Metal\", \"Glass\", \n",
    "           \"Plastic\", \"Styrofoam\", \"Plastic bag\", \"Battery\", \"Clothing\")\n",
    "\n",
    "# config file 들고오기\n",
    "cfg = Config.fromfile('./configs/swin/swin_t.py')\n",
    "\n",
    "# data root 설정\n",
    "root='../dataset/'\n",
    "\n",
    "# dataset config 수정\n",
    "cfg.data.train.classes = classes\n",
    "cfg.data.train.img_prefix = root\n",
    "cfg.data.train.ann_file = root + 'split_train_v2.json' # train json 정보\n",
    "\n",
    "cfg.data.val.classes = classes\n",
    "cfg.data.val.img_prefix = root\n",
    "cfg.data.val.ann_file = root + 'split_valid_v2.json' # train json 정보\n",
    "\n",
    "cfg.data.test.classes = classes\n",
    "cfg.data.test.img_prefix = root\n",
    "cfg.data.test.ann_file = root + 'test.json' # test json 정보\n",
    "cfg.data.test.pipeline[1]['img_scale'] = (1024,1024) # Resize\n",
    "\n",
    "cfg.data.samples_per_gpu = 4\n",
    "cfg.data.workers_per_gpu = 4\n",
    "\n",
    "# seed 설정\n",
    "cfg.seed = 2021\n",
    "\n",
    "# gpu_ids 설정\n",
    "cfg.gpu_ids = [0]\n",
    "\n",
    "# work_dir 경로 설정\n",
    "cfg.work_dir = './work_dirs/swin_t'\n",
    "\n",
    "# model num_classes 설정\n",
    "cfg.model.roi_head.bbox_head[0].num_classes = 10\n",
    "cfg.model.roi_head.bbox_head[1].num_classes = 10\n",
    "cfg.model.roi_head.bbox_head[2].num_classes = 10\n",
    "\n",
    "# img_norm 설정\n",
    "cfg.img_norm_cfg = dict(mean=[127.49413776397705, 127.43779182434082, 127.46098327636719], \n",
    "                        std=[73.86627551077616, 73.88234865304638, 73.8944344154546], to_rgb=True)\n",
    "\n",
    "cfg.optimizer_config.grad_clip = dict(max_norm=35, norm_type=2)\n",
    "cfg.checkpoint_config = dict(max_keep_ckpts=3, interval=1)\n",
    "\n",
    "# evaluation 설정\n",
    "cfg.evaluation.save_best = 'bbox_mAP_50'\n",
    "cfg.evaluation.interval = 1\n",
    "\n",
    "# wandb 연결\n",
    "cfg.log_config.hooks.append(\n",
    "    dict(\n",
    "        type='WandbLoggerHook',\n",
    "        init_kwargs=dict(\n",
    "            project='mmdetection',\n",
    "            name='number-model',\n",
    "            entity = 'passion-ate'\n",
    "        )\n",
    "    )\n",
    ")"
   ]
  },
  {
   "cell_type": "code",
   "execution_count": null,
   "id": "10653451-35e8-4e28-b79a-864fdfeae6dc",
   "metadata": {},
   "outputs": [],
   "source": [
    "# multi-scale training 설정\n",
    "cfg.data.train.pipeline[3].policies[0][0].img_scale = [(614, 1024), (655, 1024), (696, 1024), \n",
    "                                                       (737, 1024), (778, 1024), (819, 1024), \n",
    "                                                       (860, 1024), (901, 1024), (942, 1024), \n",
    "                                                       (983, 1024), (1024, 1024)]\n",
    "\n",
    "cfg.data.train.pipeline[3].policies[1][0].img_scale = [(512, 1024), (640, 1024), (768, 1024)]\n",
    "cfg.data.train.pipeline[3].policies[1][2].img_scale = [(614, 1024), (655, 1024), (696, 1024), \n",
    "                                                       (737, 1024), (778, 1024), (819, 1024), \n",
    "                                                       (860, 1024), (901, 1024), (942, 1024), \n",
    "                                                       (983, 1024), (1024, 1024)]"
   ]
  },
  {
   "cell_type": "code",
   "execution_count": null,
   "id": "f4d5dca9-a4a6-4e98-ac78-c9878f4a4e6c",
   "metadata": {},
   "outputs": [],
   "source": [
    "# pretrained 파일 변경 -> 경로 지정\n",
    "# https://github.com/microsoft/Swin-Transformer 참고\n",
    "cfg.pretrained = '/opt/ml/detection/mmdetection/configs/swin/swin_base_patch4_window12_384_22k.pth'"
   ]
  },
  {
   "cell_type": "code",
   "execution_count": null,
   "id": "1eb53337-d02e-4f1d-b4a1-1663750118b1",
   "metadata": {},
   "outputs": [],
   "source": [
    "# build_dataset\n",
    "datasets = [build_dataset(cfg.data.train)]"
   ]
  },
  {
   "cell_type": "code",
   "execution_count": null,
   "id": "ea1c2ef0-4f9b-4d24-87e3-08c8e4323584",
   "metadata": {},
   "outputs": [],
   "source": [
    "# dataset 확인\n",
    "datasets[0]"
   ]
  },
  {
   "cell_type": "code",
   "execution_count": null,
   "id": "ba89a90a-173f-4ead-9bcb-e604aee501f6",
   "metadata": {},
   "outputs": [],
   "source": [
    "# 모델 build 및 pretrained network 불러오기\n",
    "model = build_detector(cfg.model)\n",
    "model.init_weights()"
   ]
  },
  {
   "cell_type": "code",
   "execution_count": null,
   "id": "5fa5e8fc-b64c-4af8-a2e8-bfd4531e4524",
   "metadata": {},
   "outputs": [],
   "source": [
    "# 모델 학습\n",
    "train_detector(model, datasets[0], cfg, distributed=False, validate=True)"
   ]
  }
 ],
 "metadata": {
  "kernelspec": {
   "display_name": "detection",
   "language": "python",
   "name": "detection"
  },
  "language_info": {
   "codemirror_mode": {
    "name": "ipython",
    "version": 3
   },
   "file_extension": ".py",
   "mimetype": "text/x-python",
   "name": "python",
   "nbconvert_exporter": "python",
   "pygments_lexer": "ipython3",
   "version": "3.7.11"
  }
 },
 "nbformat": 4,
 "nbformat_minor": 5
}
